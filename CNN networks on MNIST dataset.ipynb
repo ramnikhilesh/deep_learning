{
 "cells": [
  {
   "cell_type": "code",
   "execution_count": 1,
   "metadata": {},
   "outputs": [
    {
     "name": "stderr",
     "output_type": "stream",
     "text": [
      "C:\\Users\\dell\\Anaconda3\\lib\\site-packages\\h5py\\__init__.py:36: FutureWarning: Conversion of the second argument of issubdtype from `float` to `np.floating` is deprecated. In future, it will be treated as `np.float64 == np.dtype(float).type`.\n",
      "  from ._conv import register_converters as _register_converters\n",
      "Using TensorFlow backend.\n"
     ]
    }
   ],
   "source": [
    "from __future__ import print_function\n",
    "import keras\n",
    "from keras.datasets import mnist\n",
    "from keras.models import Sequential\n",
    "from keras.layers import Dense, Dropout, Flatten\n",
    "from keras.layers import Conv2D, MaxPooling2D\n",
    "from keras import backend as K\n",
    "import matplotlib.pyplot as plt\n",
    "from keras.layers import  BatchNormalization\n",
    "\n"
   ]
  },
  {
   "cell_type": "code",
   "execution_count": 2,
   "metadata": {},
   "outputs": [],
   "source": [
    "batch_size = 128\n",
    "num_classes = 10\n",
    "epochs = 12"
   ]
  },
  {
   "cell_type": "code",
   "execution_count": 3,
   "metadata": {},
   "outputs": [],
   "source": [
    "img_rows, img_cols = 28, 28"
   ]
  },
  {
   "cell_type": "code",
   "execution_count": 4,
   "metadata": {},
   "outputs": [],
   "source": [
    "(x_train, y_train), (x_test, y_test) = mnist.load_data()"
   ]
  },
  {
   "cell_type": "code",
   "execution_count": 5,
   "metadata": {},
   "outputs": [],
   "source": [
    "if K.image_data_format() == 'channels_first':\n",
    "    x_train = x_train.reshape(x_train.shape[0], 1, img_rows, img_cols)\n",
    "    x_test = x_test.reshape(x_test.shape[0], 1, img_rows, img_cols)\n",
    "    input_shape = (1, img_rows, img_cols)\n",
    "else:\n",
    "    x_train = x_train.reshape(x_train.shape[0], img_rows, img_cols, 1)\n",
    "    x_test = x_test.reshape(x_test.shape[0], img_rows, img_cols, 1)\n",
    "    input_shape = (img_rows, img_cols, 1)"
   ]
  },
  {
   "cell_type": "code",
   "execution_count": 8,
   "metadata": {},
   "outputs": [
    {
     "name": "stdout",
     "output_type": "stream",
     "text": [
      "(28, 28, 1)\n"
     ]
    }
   ],
   "source": [
    "print(input_shape)"
   ]
  },
  {
   "cell_type": "code",
   "execution_count": 6,
   "metadata": {},
   "outputs": [],
   "source": [
    "def plt_dynamic(x, vy, ty, ax, colors=['b']):\n",
    "    ax.plot(x, vy, 'b', label=\"Validation Loss\")\n",
    "    ax.plot(x, ty, 'r', label=\"Train Loss\")\n",
    "    plt.legend()\n",
    "    plt.grid()\n",
    "    fig.canvas.draw()"
   ]
  },
  {
   "cell_type": "code",
   "execution_count": 7,
   "metadata": {},
   "outputs": [
    {
     "name": "stdout",
     "output_type": "stream",
     "text": [
      "x_train shape: (60000, 28, 28, 1)\n",
      "60000 train samples\n",
      "10000 test samples\n"
     ]
    }
   ],
   "source": [
    "x_train = x_train.astype('float32')\n",
    "x_test = x_test.astype('float32')\n",
    "x_train /= 255\n",
    "x_test /= 255\n",
    "print('x_train shape:', x_train.shape)\n",
    "print(x_train.shape[0], 'train samples')\n",
    "print(x_test.shape[0], 'test samples')"
   ]
  },
  {
   "cell_type": "code",
   "execution_count": 8,
   "metadata": {},
   "outputs": [],
   "source": [
    "y_train = keras.utils.to_categorical(y_train, num_classes)\n",
    "y_test = keras.utils.to_categorical(y_test, num_classes)\n"
   ]
  },
  {
   "cell_type": "markdown",
   "metadata": {},
   "source": [
    "# 3 layer  archi"
   ]
  },
  {
   "cell_type": "code",
   "execution_count": 28,
   "metadata": {},
   "outputs": [],
   "source": [
    "model = Sequential()\n",
    "model.add(Conv2D(32, kernel_size=(3, 3),activation='relu',input_shape=input_shape))\n",
    "model.add(MaxPooling2D(pool_size=(2, 2)))\n",
    "\n",
    "model.add(Conv2D(64, kernel_size=(3, 3),activation='relu'))\n",
    "model.add(MaxPooling2D(pool_size=(2, 2)))\n",
    "\n",
    "model.add(Conv2D(128, kernel_size=(3, 3),activation='relu'))\n",
    "\n",
    "model.add(Dropout(0.25))\n",
    "model.add(Flatten())\n",
    "model.add(Dense(128, activation='relu'))\n",
    "model.add(Dropout(0.5))\n",
    "model.add(Dense(num_classes, activation='softmax'))\n",
    "\n"
   ]
  },
  {
   "cell_type": "code",
   "execution_count": 29,
   "metadata": {},
   "outputs": [],
   "source": [
    "model.compile(loss=keras.losses.categorical_crossentropy,\n",
    "              optimizer=keras.optimizers.Adadelta(),\n",
    "              metrics=['accuracy'])\n"
   ]
  },
  {
   "cell_type": "code",
   "execution_count": 30,
   "metadata": {},
   "outputs": [
    {
     "name": "stdout",
     "output_type": "stream",
     "text": [
      "Train on 60000 samples, validate on 10000 samples\n",
      "Epoch 1/12\n",
      "60000/60000 [==============================] - 89s 1ms/step - loss: 0.3019 - acc: 0.9049 - val_loss: 0.0571 - val_acc: 0.9822\n",
      "Epoch 2/12\n",
      "60000/60000 [==============================] - 88s 1ms/step - loss: 0.0835 - acc: 0.9752 - val_loss: 0.0345 - val_acc: 0.9884\n",
      "Epoch 3/12\n",
      "60000/60000 [==============================] - 88s 1ms/step - loss: 0.0579 - acc: 0.9832 - val_loss: 0.0273 - val_acc: 0.9913\n",
      "Epoch 4/12\n",
      "60000/60000 [==============================] - 87s 1ms/step - loss: 0.0485 - acc: 0.9859 - val_loss: 0.0248 - val_acc: 0.9910\n",
      "Epoch 5/12\n",
      "60000/60000 [==============================] - 87s 1ms/step - loss: 0.0397 - acc: 0.9881 - val_loss: 0.0253 - val_acc: 0.9915\n",
      "Epoch 6/12\n",
      "60000/60000 [==============================] - 87s 1ms/step - loss: 0.0366 - acc: 0.9890 - val_loss: 0.0258 - val_acc: 0.9922\n",
      "Epoch 7/12\n",
      "60000/60000 [==============================] - 87s 1ms/step - loss: 0.0303 - acc: 0.9907 - val_loss: 0.0240 - val_acc: 0.9924\n",
      "Epoch 8/12\n",
      "60000/60000 [==============================] - 87s 1ms/step - loss: 0.0283 - acc: 0.9912 - val_loss: 0.0217 - val_acc: 0.9934\n",
      "Epoch 9/12\n",
      "60000/60000 [==============================] - 87s 1ms/step - loss: 0.0238 - acc: 0.9930 - val_loss: 0.0212 - val_acc: 0.9932\n",
      "Epoch 10/12\n",
      "60000/60000 [==============================] - 85s 1ms/step - loss: 0.0224 - acc: 0.9935 - val_loss: 0.0257 - val_acc: 0.9933\n",
      "Epoch 11/12\n",
      "60000/60000 [==============================] - 79s 1ms/step - loss: 0.0205 - acc: 0.9936 - val_loss: 0.0221 - val_acc: 0.9933\n",
      "Epoch 12/12\n",
      "60000/60000 [==============================] - 80s 1ms/step - loss: 0.0182 - acc: 0.9946 - val_loss: 0.0231 - val_acc: 0.9930\n",
      "Test loss: 0.023059535932906237\n",
      "Test accuracy: 0.993\n"
     ]
    }
   ],
   "source": [
    "model1=model.fit(x_train, y_train,\n",
    "          batch_size=batch_size,\n",
    "          epochs=epochs,\n",
    "          verbose=1,\n",
    "          validation_data=(x_test, y_test))\n",
    "score = model.evaluate(x_test, y_test, verbose=0)\n",
    "print('Test loss:', score[0])\n",
    "print('Test accuracy:', score[1])"
   ]
  },
  {
   "cell_type": "code",
   "execution_count": 31,
   "metadata": {},
   "outputs": [
    {
     "name": "stdout",
     "output_type": "stream",
     "text": [
      "Test score: 0.023059535932906237\n",
      "Test accuracy: 0.993\n"
     ]
    },
    {
     "data": {
      "image/png": "[encoded data removed]",
      "text/plain": [
       "<Figure size 432x288 with 1 Axes>"
      ]
     },
     "metadata": {},
     "output_type": "display_data"
    }
   ],
   "source": [
    "\n",
    "\n",
    "score = model.evaluate(x_test, y_test, verbose=0) \n",
    "print('Test score:', score[0]) \n",
    "print('Test accuracy:', score[1])\n",
    "\n",
    "fig,ax = plt.subplots(1,1)\n",
    "ax.set_xlabel('epoch') ; ax.set_ylabel('Categorical Crossentropy Loss')\n",
    "\n",
    "# list of epoch numbers\n",
    "x = list(range(1,epochs+1))\n",
    "vy = model1.history['val_loss']\n",
    "ty = model1.history['loss']\n",
    "plt_dynamic(x, vy, ty, ax)\n"
   ]
  },
  {
   "cell_type": "markdown",
   "metadata": {},
   "source": [
    "Here as the no of epoches increases the model is performing well with best epoch as 11"
   ]
  },
  {
   "cell_type": "markdown",
   "metadata": {},
   "source": [
    "# 5 layer Archi"
   ]
  },
  {
   "cell_type": "code",
   "execution_count": 23,
   "metadata": {},
   "outputs": [],
   "source": [
    "model = Sequential()\n",
    "model.add(Conv2D(32, kernel_size=(3, 3),activation='relu',input_shape=input_shape))\n",
    "model.add(BatchNormalization())\n",
    "model.add(Dropout(0.4))\n",
    "\n",
    "model.add(Conv2D(32, kernel_size=(3, 3),activation='relu'))\n",
    "model.add(BatchNormalization())\n",
    "model.add(MaxPooling2D(pool_size=(2, 2)))\n",
    "model.add(Dropout(0.4))\n",
    "\n",
    "model.add(Conv2D(64, kernel_size=(3, 3),activation='relu'))\n",
    "model.add(BatchNormalization())\n",
    "model.add(Dropout(0.4))\n",
    "\n",
    "\n",
    "model.add(Conv2D(64, kernel_size=(3, 3),activation='relu'))\n",
    "model.add(BatchNormalization())\n",
    "model.add(MaxPooling2D(pool_size=(2, 2)))\n",
    "model.add(Dropout(0.4))\n",
    "\n",
    "model.add(Conv2D(128, kernel_size=(3, 3),activation='relu'))\n",
    "model.add(BatchNormalization())\n",
    "model.add(Dropout(0.4))\n",
    "\n",
    "model.add(Flatten())\n",
    "model.add(Dense(10, activation='relu'))\n",
    "model.add(Dropout(0.4))\n",
    "model.add(Dense(num_classes, activation='softmax'))"
   ]
  },
  {
   "cell_type": "code",
   "execution_count": 24,
   "metadata": {},
   "outputs": [],
   "source": [
    "model.compile(loss=keras.losses.categorical_crossentropy,\n",
    "              optimizer=keras.optimizers.Adadelta(),\n",
    "              metrics=['accuracy'])\n"
   ]
  },
  {
   "cell_type": "code",
   "execution_count": 25,
   "metadata": {},
   "outputs": [
    {
     "name": "stdout",
     "output_type": "stream",
     "text": [
      "Train on 60000 samples, validate on 10000 samples\n",
      "Epoch 1/12\n",
      "60000/60000 [==============================] - 618s 10ms/step - loss: 1.1760 - acc: 0.5821 - val_loss: 0.1554 - val_acc: 0.9617\n",
      "Epoch 2/12\n",
      "60000/60000 [==============================] - 640s 11ms/step - loss: 0.6476 - acc: 0.7490 - val_loss: 0.0761 - val_acc: 0.9820\n",
      "Epoch 3/12\n",
      "60000/60000 [==============================] - 611s 10ms/step - loss: 0.5451 - acc: 0.7902 - val_loss: 0.0619 - val_acc: 0.9851\n",
      "Epoch 4/12\n",
      "60000/60000 [==============================] - 616s 10ms/step - loss: 0.4906 - acc: 0.8186 - val_loss: 0.0580 - val_acc: 0.9867\n",
      "Epoch 5/12\n",
      "60000/60000 [==============================] - 666s 11ms/step - loss: 0.4625 - acc: 0.8310 - val_loss: 0.0434 - val_acc: 0.9904\n",
      "Epoch 6/12\n",
      "60000/60000 [==============================] - 547s 9ms/step - loss: 0.4376 - acc: 0.8425 - val_loss: 0.0400 - val_acc: 0.9914\n",
      "Epoch 7/12\n",
      "60000/60000 [==============================] - 535s 9ms/step - loss: 0.4302 - acc: 0.8476 - val_loss: 0.0463 - val_acc: 0.9909\n",
      "Epoch 8/12\n",
      "60000/60000 [==============================] - 616s 10ms/step - loss: 0.4229 - acc: 0.8508 - val_loss: 0.0443 - val_acc: 0.9915\n",
      "Epoch 9/12\n",
      "60000/60000 [==============================] - 573s 10ms/step - loss: 0.4229 - acc: 0.8526 - val_loss: 0.0382 - val_acc: 0.9916\n",
      "Epoch 10/12\n",
      "60000/60000 [==============================] - 620s 10ms/step - loss: 0.4160 - acc: 0.8558 - val_loss: 0.0387 - val_acc: 0.9929\n",
      "Epoch 11/12\n",
      "60000/60000 [==============================] - 568s 9ms/step - loss: 0.4087 - acc: 0.8587 - val_loss: 0.0371 - val_acc: 0.9928\n",
      "Epoch 12/12\n",
      "60000/60000 [==============================] - 579s 10ms/step - loss: 0.4061 - acc: 0.8612 - val_loss: 0.0364 - val_acc: 0.9934\n",
      "Test loss: 0.03643865677977447\n",
      "Test accuracy: 0.9934\n"
     ]
    }
   ],
   "source": [
    "model1=model.fit(x_train, y_train,\n",
    "          batch_size=batch_size,\n",
    "          epochs=epochs,\n",
    "          verbose=1,\n",
    "          validation_data=(x_test, y_test))\n",
    "score = model.evaluate(x_test, y_test, verbose=0)\n",
    "print('Test loss:', score[0])\n",
    "print('Test accuracy:', score[1])"
   ]
  },
  {
   "cell_type": "code",
   "execution_count": 26,
   "metadata": {},
   "outputs": [
    {
     "name": "stdout",
     "output_type": "stream",
     "text": [
      "Test score: 0.03643865677977447\n",
      "Test accuracy: 0.9934\n"
     ]
    },
    {
     "data": {
      "image/png": "[encoded data removed]",
      "text/plain": [
       "<Figure size 432x288 with 1 Axes>"
      ]
     },
     "metadata": {},
     "output_type": "display_data"
    }
   ],
   "source": [
    "\n",
    "\n",
    "score = model.evaluate(x_test, y_test, verbose=0) \n",
    "print('Test score:', score[0]) \n",
    "print('Test accuracy:', score[1])\n",
    "\n",
    "fig,ax = plt.subplots(1,1)\n",
    "ax.set_xlabel('epoch') ; ax.set_ylabel('Categorical Crossentropy Loss')\n",
    "\n",
    "# list of epoch numbers\n",
    "x = list(range(1,epochs+1))\n",
    "vy = model1.history['val_loss']\n",
    "ty = model1.history['loss']\n",
    "plt_dynamic(x, vy, ty, ax)\n"
   ]
  },
  {
   "cell_type": "markdown",
   "metadata": {},
   "source": [
    "We can see from above graph that best epoch is 8 and for further epochs it tends to reduces further"
   ]
  },
  {
   "cell_type": "markdown",
   "metadata": {},
   "source": [
    "# 7 layer Archi"
   ]
  },
  {
   "cell_type": "code",
   "execution_count": 43,
   "metadata": {},
   "outputs": [],
   "source": [
    "model = Sequential()\n",
    "\n",
    "model.add(Conv2D(16,kernel_size=(3, 3),activation='relu',input_shape=input_shape))\n",
    "model.add(BatchNormalization())\n",
    "model.add(Dropout(0.3))\n",
    "\n",
    "model.add(Conv2D(24, kernel_size=(3,3),activation='relu'))\n",
    "model.add(BatchNormalization())\n",
    "model.add(Dropout(0.3))\n",
    "\n",
    "model.add(Conv2D(32, kernel_size=(3,3),activation='relu'))\n",
    "model.add(BatchNormalization())\n",
    "model.add(MaxPooling2D(pool_size=(2, 2)))\n",
    "model.add(Dropout(0.3))\n",
    "\n",
    "model.add(Conv2D(32,kernel_size=(3,3),activation='relu'))\n",
    "\n",
    "model.add(Conv2D(64,kernel_size=(3,3),activation='relu'))\n",
    "model.add(BatchNormalization())\n",
    "model.add(Dropout(0.3))\n",
    "\n",
    "\n",
    "model.add(Conv2D(72,kernel_size=(3,3),activation='relu'))\n",
    "model.add(BatchNormalization())\n",
    "model.add(Dropout(0.3))\n",
    "\n",
    "model.add(Conv2D(128, kernel_size=(3,3),activation='relu'))\n",
    "model.add(BatchNormalization())\n",
    "model.add(MaxPooling2D(pool_size=(2, 2)))\n",
    "model.add(Dropout(0.3))\n",
    "\n",
    "model.add(Flatten())\n",
    "model.add(Dense(10, activation='relu'))\n",
    "model.add(Dropout(0.5))\n",
    "model.add(Dense(num_classes, activation='softmax'))\n",
    "\n",
    "\n",
    "\n"
   ]
  },
  {
   "cell_type": "code",
   "execution_count": 44,
   "metadata": {},
   "outputs": [],
   "source": [
    "model.compile(loss=keras.losses.categorical_crossentropy,\n",
    "              optimizer=keras.optimizers.Adadelta(),\n",
    "              metrics=['accuracy'])\n"
   ]
  },
  {
   "cell_type": "code",
   "execution_count": 45,
   "metadata": {},
   "outputs": [
    {
     "name": "stdout",
     "output_type": "stream",
     "text": [
      "Train on 60000 samples, validate on 10000 samples\n",
      "Epoch 1/12\n",
      "60000/60000 [==============================] - 570s 10ms/step - loss: 1.4315 - acc: 0.4879 - val_loss: 0.2311 - val_acc: 0.9532\n",
      "Epoch 2/12\n",
      "60000/60000 [==============================] - 529s 9ms/step - loss: 0.8375 - acc: 0.6845 - val_loss: 0.0916 - val_acc: 0.9823\n",
      "Epoch 3/12\n",
      "60000/60000 [==============================] - 597s 10ms/step - loss: 0.7123 - acc: 0.7281 - val_loss: 0.0742 - val_acc: 0.9870\n",
      "Epoch 4/12\n",
      "60000/60000 [==============================] - 588s 10ms/step - loss: 0.6631 - acc: 0.7489 - val_loss: 0.0723 - val_acc: 0.9873\n",
      "Epoch 5/12\n",
      "60000/60000 [==============================] - 582s 10ms/step - loss: 0.6392 - acc: 0.7637 - val_loss: 0.0678 - val_acc: 0.9878\n",
      "Epoch 6/12\n",
      "60000/60000 [==============================] - 551s 9ms/step - loss: 0.6181 - acc: 0.7756 - val_loss: 0.0755 - val_acc: 0.9883\n",
      "Epoch 7/12\n",
      "60000/60000 [==============================] - 537s 9ms/step - loss: 0.6125 - acc: 0.7825 - val_loss: 0.0685 - val_acc: 0.9901\n",
      "Epoch 8/12\n",
      "60000/60000 [==============================] - 521s 9ms/step - loss: 0.5995 - acc: 0.7895 - val_loss: 0.0579 - val_acc: 0.9921\n",
      "Epoch 9/12\n",
      "60000/60000 [==============================] - 509s 8ms/step - loss: 0.5800 - acc: 0.7983 - val_loss: 0.0726 - val_acc: 0.9902\n",
      "Epoch 10/12\n",
      "60000/60000 [==============================] - 524s 9ms/step - loss: 0.5828 - acc: 0.7982 - val_loss: 0.0559 - val_acc: 0.9921\n",
      "Epoch 11/12\n",
      "60000/60000 [==============================] - 543s 9ms/step - loss: 0.5828 - acc: 0.7992 - val_loss: 0.0664 - val_acc: 0.9903\n",
      "Epoch 12/12\n",
      "60000/60000 [==============================] - 532s 9ms/step - loss: 0.5701 - acc: 0.8047 - val_loss: 0.0559 - val_acc: 0.9928\n",
      "Test loss: 0.05590874376464635\n",
      "Test accuracy: 0.9928\n"
     ]
    }
   ],
   "source": [
    "model1=model.fit(x_train, y_train,\n",
    "          batch_size=batch_size,\n",
    "          epochs=epochs,\n",
    "          verbose=1,\n",
    "          validation_data=(x_test, y_test))\n",
    "score = model.evaluate(x_test, y_test, verbose=0)\n",
    "print('Test loss:', score[0])\n",
    "print('Test accuracy:', score[1])"
   ]
  },
  {
   "cell_type": "code",
   "execution_count": 46,
   "metadata": {},
   "outputs": [
    {
     "name": "stdout",
     "output_type": "stream",
     "text": [
      "Test score: 0.05590874376464635\n",
      "Test accuracy: 0.9928\n"
     ]
    },
    {
     "data": {
      "image/png": "[encoded data removed]",
      "text/plain": [
       "<Figure size 432x288 with 1 Axes>"
      ]
     },
     "metadata": {},
     "output_type": "display_data"
    }
   ],
   "source": [
    "\n",
    "\n",
    "score = model.evaluate(x_test, y_test, verbose=0) \n",
    "print('Test score:', score[0]) \n",
    "print('Test accuracy:', score[1])\n",
    "\n",
    "fig,ax = plt.subplots(1,1)\n",
    "ax.set_xlabel('epoch') ; ax.set_ylabel('Categorical Crossentropy Loss')\n",
    "\n",
    "# list of epoch numbers\n",
    "x = list(range(1,epochs+1))\n",
    "vy = model1.history['val_loss']\n",
    "ty = model1.history['loss']\n",
    "plt_dynamic(x, vy, ty, ax)\n"
   ]
  },
  {
   "cell_type": "markdown",
   "metadata": {},
   "source": [
    "Here we can see as no of layers increases we can see the model reduces to overfit and accuracy increases"
   ]
  },
  {
   "cell_type": "markdown",
   "metadata": {},
   "source": [
    "# Observation's"
   ]
  },
  {
   "cell_type": "markdown",
   "metadata": {},
   "source": [
    "<table>\n",
    "    <tr>\n",
    "        <th>no of layers</th>\n",
    "        <th>test accu</th>\n",
    "        <th>test loss</th>\n",
    "    </tr>\n",
    "    <tr>\n",
    "        <td>3 convolutional layer</td>\n",
    "        <td>99.3%</td>\n",
    "        <td>0.023059</td>\n",
    "    </tr>\n",
    "    <tr>\n",
    "        <td>5 convolutional layer</td>\n",
    "        <td>99.34%</td>\n",
    "        <td>0.036438</td>\n",
    "    </tr>\n",
    "    <tr>\n",
    "        <td>7 convolutional layer</td>\n",
    "        <td>99.28%</td>\n",
    "        <td>0.05590</td>\n",
    "    </tr>    \n",
    "            \n",
    "</table>    "
   ]
  },
  {
   "cell_type": "markdown",
   "metadata": {},
   "source": [
    "# Conclusion"
   ]
  },
  {
   "cell_type": "markdown",
   "metadata": {},
   "source": [
    "1.From the above table and graph we can see that as the no of layers increase the accuracy of the model is increasing.\n",
    "\n",
    "2.And we can see that all the models are having an accuracy above 99% and we have minimum test loss for model with 3 layers."
   ]
  },
  {
   "cell_type": "code",
   "execution_count": null,
   "metadata": {},
   "outputs": [],
   "source": []
  }
 ],
 "metadata": {
  "kernelspec": {
   "display_name": "Python 3",
   "language": "python",
   "name": "python3"
  },
  "language_info": {
   "codemirror_mode": {
    "name": "ipython",
    "version": 3
   },
   "file_extension": ".py",
   "mimetype": "text/x-python",
   "name": "python",
   "nbconvert_exporter": "python",
   "pygments_lexer": "ipython3",
   "version": "3.6.5"
  }
 },
 "nbformat": 4,
 "nbformat_minor": 2
}
