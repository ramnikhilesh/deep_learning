{
 "cells": [
  {
   "cell_type": "code",
   "execution_count": 1,
   "metadata": {},
   "outputs": [
    {
     "name": "stderr",
     "output_type": "stream",
     "text": [
      "C:\\Users\\dell\\Anaconda3\\lib\\site-packages\\h5py\\__init__.py:36: FutureWarning: Conversion of the second argument of issubdtype from `float` to `np.floating` is deprecated. In future, it will be treated as `np.float64 == np.dtype(float).type`.\n",
      "  from ._conv import register_converters as _register_converters\n",
      "Using TensorFlow backend.\n"
     ]
    }
   ],
   "source": [
    "from keras.utils import np_utils \n",
    "from keras.datasets import mnist \n",
    "import seaborn as sns\n",
    "from keras.initializers import RandomNormal\n",
    "import matplotlib.pyplot as plt\n",
    "import numpy as np\n",
    "import time"
   ]
  },
  {
   "cell_type": "code",
   "execution_count": 2,
   "metadata": {},
   "outputs": [],
   "source": [
    "def plt_dynamic(x, vy, ty, ax, colors=['b']):\n",
    "    ax.plot(x, vy, 'b', label=\"Validation Loss\")\n",
    "    ax.plot(x, ty, 'r', label=\"Train Loss\")\n",
    "    plt.legend()\n",
    "    plt.grid()\n",
    "    fig.canvas.draw()"
   ]
  },
  {
   "cell_type": "code",
   "execution_count": 3,
   "metadata": {},
   "outputs": [],
   "source": [
    "(X_train, y_train), (X_test, y_test) = mnist.load_data()"
   ]
  },
  {
   "cell_type": "code",
   "execution_count": 4,
   "metadata": {},
   "outputs": [
    {
     "name": "stdout",
     "output_type": "stream",
     "text": [
      "Number of training examples : 60000 and each image is of shape (28, 28)\n",
      "Number of training examples : 10000 and each image is of shape (28, 28)\n"
     ]
    }
   ],
   "source": [
    "print(\"Number of training examples :\", X_train.shape[0], \"and each image is of shape (%d, %d)\"%(X_train.shape[1], X_train.shape[2]))\n",
    "print(\"Number of training examples :\", X_test.shape[0], \"and each image is of shape (%d, %d)\"%(X_test.shape[1], X_test.shape[2]))"
   ]
  },
  {
   "cell_type": "code",
   "execution_count": 5,
   "metadata": {},
   "outputs": [],
   "source": [
    "X_train = X_train.reshape(X_train.shape[0], X_train.shape[1]*X_train.shape[2]) \n",
    "X_test = X_test.reshape(X_test.shape[0], X_test.shape[1]*X_test.shape[2]) "
   ]
  },
  {
   "cell_type": "code",
   "execution_count": 7,
   "metadata": {},
   "outputs": [
    {
     "name": "stdout",
     "output_type": "stream",
     "text": [
      "(60000, 784)\n"
     ]
    }
   ],
   "source": [
    "print(X_train.shape)"
   ]
  },
  {
   "cell_type": "code",
   "execution_count": 8,
   "metadata": {},
   "outputs": [
    {
     "name": "stdout",
     "output_type": "stream",
     "text": [
      "[  0   0   0   0   0   0   0   0   0   0   0   0   0   0   0   0   0   0\n",
      "   0   0   0   0   0   0   0   0   0   0   0   0   0   0   0   0   0   0\n",
      "   0   0   0   0   0   0   0   0   0   0   0   0   0   0   0   0   0   0\n",
      "   0   0   0   0   0   0   0   0   0   0   0   0   0   0   0   0   0   0\n",
      "   0   0   0   0   0   0   0   0   0   0   0   0   0   0   0   0   0   0\n",
      "   0   0   0   0   0   0   0   0   0   0   0   0   0   0   0   0   0   0\n",
      "   0   0   0   0   0   0   0   0   0   0   0   0   0   0   0   0   0   0\n",
      "   0   0   0   0   0   0   0   0   0   0   0   0   0   0   0   0   0   0\n",
      "   0   0   0   0   0   0   0   0   3  18  18  18 126 136 175  26 166 255\n",
      " 247 127   0   0   0   0   0   0   0   0   0   0   0   0  30  36  94 154\n",
      " 170 253 253 253 253 253 225 172 253 242 195  64   0   0   0   0   0   0\n",
      "   0   0   0   0   0  49 238 253 253 253 253 253 253 253 253 251  93  82\n",
      "  82  56  39   0   0   0   0   0   0   0   0   0   0   0   0  18 219 253\n",
      " 253 253 253 253 198 182 247 241   0   0   0   0   0   0   0   0   0   0\n",
      "   0   0   0   0   0   0   0   0  80 156 107 253 253 205  11   0  43 154\n",
      "   0   0   0   0   0   0   0   0   0   0   0   0   0   0   0   0   0   0\n",
      "   0  14   1 154 253  90   0   0   0   0   0   0   0   0   0   0   0   0\n",
      "   0   0   0   0   0   0   0   0   0   0   0   0   0 139 253 190   2   0\n",
      "   0   0   0   0   0   0   0   0   0   0   0   0   0   0   0   0   0   0\n",
      "   0   0   0   0   0  11 190 253  70   0   0   0   0   0   0   0   0   0\n",
      "   0   0   0   0   0   0   0   0   0   0   0   0   0   0   0   0  35 241\n",
      " 225 160 108   1   0   0   0   0   0   0   0   0   0   0   0   0   0   0\n",
      "   0   0   0   0   0   0   0   0   0  81 240 253 253 119  25   0   0   0\n",
      "   0   0   0   0   0   0   0   0   0   0   0   0   0   0   0   0   0   0\n",
      "   0   0  45 186 253 253 150  27   0   0   0   0   0   0   0   0   0   0\n",
      "   0   0   0   0   0   0   0   0   0   0   0   0   0  16  93 252 253 187\n",
      "   0   0   0   0   0   0   0   0   0   0   0   0   0   0   0   0   0   0\n",
      "   0   0   0   0   0   0   0 249 253 249  64   0   0   0   0   0   0   0\n",
      "   0   0   0   0   0   0   0   0   0   0   0   0   0   0  46 130 183 253\n",
      " 253 207   2   0   0   0   0   0   0   0   0   0   0   0   0   0   0   0\n",
      "   0   0   0   0  39 148 229 253 253 253 250 182   0   0   0   0   0   0\n",
      "   0   0   0   0   0   0   0   0   0   0   0   0  24 114 221 253 253 253\n",
      " 253 201  78   0   0   0   0   0   0   0   0   0   0   0   0   0   0   0\n",
      "   0   0  23  66 213 253 253 253 253 198  81   2   0   0   0   0   0   0\n",
      "   0   0   0   0   0   0   0   0   0   0  18 171 219 253 253 253 253 195\n",
      "  80   9   0   0   0   0   0   0   0   0   0   0   0   0   0   0   0   0\n",
      "  55 172 226 253 253 253 253 244 133  11   0   0   0   0   0   0   0   0\n",
      "   0   0   0   0   0   0   0   0   0   0 136 253 253 253 212 135 132  16\n",
      "   0   0   0   0   0   0   0   0   0   0   0   0   0   0   0   0   0   0\n",
      "   0   0   0   0   0   0   0   0   0   0   0   0   0   0   0   0   0   0\n",
      "   0   0   0   0   0   0   0   0   0   0   0   0   0   0   0   0   0   0\n",
      "   0   0   0   0   0   0   0   0   0   0   0   0   0   0   0   0   0   0\n",
      "   0   0   0   0   0   0   0   0   0   0   0   0   0   0   0   0   0   0\n",
      "   0   0   0   0   0   0   0   0   0   0]\n"
     ]
    }
   ],
   "source": [
    "print(X_train[0])"
   ]
  },
  {
   "cell_type": "code",
   "execution_count": 9,
   "metadata": {},
   "outputs": [],
   "source": [
    "X_train = X_train/255\n",
    "X_test = X_test/255"
   ]
  },
  {
   "cell_type": "code",
   "execution_count": 10,
   "metadata": {},
   "outputs": [
    {
     "name": "stdout",
     "output_type": "stream",
     "text": [
      "[0.         0.         0.         0.         0.         0.\n",
      " 0.         0.         0.         0.         0.         0.\n",
      " 0.         0.         0.         0.         0.         0.\n",
      " 0.         0.         0.         0.         0.         0.\n",
      " 0.         0.         0.         0.         0.         0.\n",
      " 0.         0.         0.         0.         0.         0.\n",
      " 0.         0.         0.         0.         0.         0.\n",
      " 0.         0.         0.         0.         0.         0.\n",
      " 0.         0.         0.         0.         0.         0.\n",
      " 0.         0.         0.         0.         0.         0.\n",
      " 0.         0.         0.         0.         0.         0.\n",
      " 0.         0.         0.         0.         0.         0.\n",
      " 0.         0.         0.         0.         0.         0.\n",
      " 0.         0.         0.         0.         0.         0.\n",
      " 0.         0.         0.         0.         0.         0.\n",
      " 0.         0.         0.         0.         0.         0.\n",
      " 0.         0.         0.         0.         0.         0.\n",
      " 0.         0.         0.         0.         0.         0.\n",
      " 0.         0.         0.         0.         0.         0.\n",
      " 0.         0.         0.         0.         0.         0.\n",
      " 0.         0.         0.         0.         0.         0.\n",
      " 0.         0.         0.         0.         0.         0.\n",
      " 0.         0.         0.         0.         0.         0.\n",
      " 0.         0.         0.         0.         0.         0.\n",
      " 0.         0.         0.         0.         0.         0.\n",
      " 0.         0.         0.01176471 0.07058824 0.07058824 0.07058824\n",
      " 0.49411765 0.53333333 0.68627451 0.10196078 0.65098039 1.\n",
      " 0.96862745 0.49803922 0.         0.         0.         0.\n",
      " 0.         0.         0.         0.         0.         0.\n",
      " 0.         0.         0.11764706 0.14117647 0.36862745 0.60392157\n",
      " 0.66666667 0.99215686 0.99215686 0.99215686 0.99215686 0.99215686\n",
      " 0.88235294 0.6745098  0.99215686 0.94901961 0.76470588 0.25098039\n",
      " 0.         0.         0.         0.         0.         0.\n",
      " 0.         0.         0.         0.         0.         0.19215686\n",
      " 0.93333333 0.99215686 0.99215686 0.99215686 0.99215686 0.99215686\n",
      " 0.99215686 0.99215686 0.99215686 0.98431373 0.36470588 0.32156863\n",
      " 0.32156863 0.21960784 0.15294118 0.         0.         0.\n",
      " 0.         0.         0.         0.         0.         0.\n",
      " 0.         0.         0.         0.07058824 0.85882353 0.99215686\n",
      " 0.99215686 0.99215686 0.99215686 0.99215686 0.77647059 0.71372549\n",
      " 0.96862745 0.94509804 0.         0.         0.         0.\n",
      " 0.         0.         0.         0.         0.         0.\n",
      " 0.         0.         0.         0.         0.         0.\n",
      " 0.         0.         0.31372549 0.61176471 0.41960784 0.99215686\n",
      " 0.99215686 0.80392157 0.04313725 0.         0.16862745 0.60392157\n",
      " 0.         0.         0.         0.         0.         0.\n",
      " 0.         0.         0.         0.         0.         0.\n",
      " 0.         0.         0.         0.         0.         0.\n",
      " 0.         0.05490196 0.00392157 0.60392157 0.99215686 0.35294118\n",
      " 0.         0.         0.         0.         0.         0.\n",
      " 0.         0.         0.         0.         0.         0.\n",
      " 0.         0.         0.         0.         0.         0.\n",
      " 0.         0.         0.         0.         0.         0.\n",
      " 0.         0.54509804 0.99215686 0.74509804 0.00784314 0.\n",
      " 0.         0.         0.         0.         0.         0.\n",
      " 0.         0.         0.         0.         0.         0.\n",
      " 0.         0.         0.         0.         0.         0.\n",
      " 0.         0.         0.         0.         0.         0.04313725\n",
      " 0.74509804 0.99215686 0.2745098  0.         0.         0.\n",
      " 0.         0.         0.         0.         0.         0.\n",
      " 0.         0.         0.         0.         0.         0.\n",
      " 0.         0.         0.         0.         0.         0.\n",
      " 0.         0.         0.         0.         0.1372549  0.94509804\n",
      " 0.88235294 0.62745098 0.42352941 0.00392157 0.         0.\n",
      " 0.         0.         0.         0.         0.         0.\n",
      " 0.         0.         0.         0.         0.         0.\n",
      " 0.         0.         0.         0.         0.         0.\n",
      " 0.         0.         0.         0.31764706 0.94117647 0.99215686\n",
      " 0.99215686 0.46666667 0.09803922 0.         0.         0.\n",
      " 0.         0.         0.         0.         0.         0.\n",
      " 0.         0.         0.         0.         0.         0.\n",
      " 0.         0.         0.         0.         0.         0.\n",
      " 0.         0.         0.17647059 0.72941176 0.99215686 0.99215686\n",
      " 0.58823529 0.10588235 0.         0.         0.         0.\n",
      " 0.         0.         0.         0.         0.         0.\n",
      " 0.         0.         0.         0.         0.         0.\n",
      " 0.         0.         0.         0.         0.         0.\n",
      " 0.         0.0627451  0.36470588 0.98823529 0.99215686 0.73333333\n",
      " 0.         0.         0.         0.         0.         0.\n",
      " 0.         0.         0.         0.         0.         0.\n",
      " 0.         0.         0.         0.         0.         0.\n",
      " 0.         0.         0.         0.         0.         0.\n",
      " 0.         0.97647059 0.99215686 0.97647059 0.25098039 0.\n",
      " 0.         0.         0.         0.         0.         0.\n",
      " 0.         0.         0.         0.         0.         0.\n",
      " 0.         0.         0.         0.         0.         0.\n",
      " 0.         0.         0.18039216 0.50980392 0.71764706 0.99215686\n",
      " 0.99215686 0.81176471 0.00784314 0.         0.         0.\n",
      " 0.         0.         0.         0.         0.         0.\n",
      " 0.         0.         0.         0.         0.         0.\n",
      " 0.         0.         0.         0.         0.15294118 0.58039216\n",
      " 0.89803922 0.99215686 0.99215686 0.99215686 0.98039216 0.71372549\n",
      " 0.         0.         0.         0.         0.         0.\n",
      " 0.         0.         0.         0.         0.         0.\n",
      " 0.         0.         0.         0.         0.         0.\n",
      " 0.09411765 0.44705882 0.86666667 0.99215686 0.99215686 0.99215686\n",
      " 0.99215686 0.78823529 0.30588235 0.         0.         0.\n",
      " 0.         0.         0.         0.         0.         0.\n",
      " 0.         0.         0.         0.         0.         0.\n",
      " 0.         0.         0.09019608 0.25882353 0.83529412 0.99215686\n",
      " 0.99215686 0.99215686 0.99215686 0.77647059 0.31764706 0.00784314\n",
      " 0.         0.         0.         0.         0.         0.\n",
      " 0.         0.         0.         0.         0.         0.\n",
      " 0.         0.         0.         0.         0.07058824 0.67058824\n",
      " 0.85882353 0.99215686 0.99215686 0.99215686 0.99215686 0.76470588\n",
      " 0.31372549 0.03529412 0.         0.         0.         0.\n",
      " 0.         0.         0.         0.         0.         0.\n",
      " 0.         0.         0.         0.         0.         0.\n",
      " 0.21568627 0.6745098  0.88627451 0.99215686 0.99215686 0.99215686\n",
      " 0.99215686 0.95686275 0.52156863 0.04313725 0.         0.\n",
      " 0.         0.         0.         0.         0.         0.\n",
      " 0.         0.         0.         0.         0.         0.\n",
      " 0.         0.         0.         0.         0.53333333 0.99215686\n",
      " 0.99215686 0.99215686 0.83137255 0.52941176 0.51764706 0.0627451\n",
      " 0.         0.         0.         0.         0.         0.\n",
      " 0.         0.         0.         0.         0.         0.\n",
      " 0.         0.         0.         0.         0.         0.\n",
      " 0.         0.         0.         0.         0.         0.\n",
      " 0.         0.         0.         0.         0.         0.\n",
      " 0.         0.         0.         0.         0.         0.\n",
      " 0.         0.         0.         0.         0.         0.\n",
      " 0.         0.         0.         0.         0.         0.\n",
      " 0.         0.         0.         0.         0.         0.\n",
      " 0.         0.         0.         0.         0.         0.\n",
      " 0.         0.         0.         0.         0.         0.\n",
      " 0.         0.         0.         0.         0.         0.\n",
      " 0.         0.         0.         0.         0.         0.\n",
      " 0.         0.         0.         0.         0.         0.\n",
      " 0.         0.         0.         0.         0.         0.\n",
      " 0.         0.         0.         0.         0.         0.\n",
      " 0.         0.         0.         0.        ]\n"
     ]
    }
   ],
   "source": [
    "print(X_train[0])"
   ]
  },
  {
   "cell_type": "code",
   "execution_count": 14,
   "metadata": {},
   "outputs": [
    {
     "name": "stdout",
     "output_type": "stream",
     "text": [
      "2\n",
      "After converting the output into a vector :  [0. 0. 1. 0. 0. 0. 0. 0. 0. 0.]\n"
     ]
    }
   ],
   "source": [
    "print(y_train[5])\n",
    "Y_train = np_utils.to_categorical(y_train, 10) \n",
    "Y_test = np_utils.to_categorical(y_test, 10)\n",
    "\n",
    "print(\"After converting the output into a vector : \",Y_train[5])"
   ]
  },
  {
   "cell_type": "code",
   "execution_count": 18,
   "metadata": {},
   "outputs": [],
   "source": [
    "from keras.models import Sequential \n",
    "from keras.layers import Dense, Activation \n",
    "from keras.layers import Dropout\n",
    "from keras.layers.normalization import BatchNormalization"
   ]
  },
  {
   "cell_type": "code",
   "execution_count": 17,
   "metadata": {},
   "outputs": [],
   "source": [
    "\n",
    "output_dim = 10\n",
    "input_dim = X_train.shape[1]\n",
    "\n",
    "batch_size = 128 \n",
    "nb_epoch = 20"
   ]
  },
  {
   "cell_type": "markdown",
   "metadata": {},
   "source": [
    "# 2 Hidden Layers with 364-52"
   ]
  },
  {
   "cell_type": "code",
   "execution_count": 40,
   "metadata": {},
   "outputs": [
    {
     "name": "stdout",
     "output_type": "stream",
     "text": [
      "_________________________________________________________________\n",
      "Layer (type)                 Output Shape              Param #   \n",
      "=================================================================\n",
      "dense_35 (Dense)             (None, 364)               285740    \n",
      "_________________________________________________________________\n",
      "batch_normalization_27 (Batc (None, 364)               1456      \n",
      "_________________________________________________________________\n",
      "dropout_27 (Dropout)         (None, 364)               0         \n",
      "_________________________________________________________________\n",
      "dense_36 (Dense)             (None, 52)                18980     \n",
      "_________________________________________________________________\n",
      "batch_normalization_28 (Batc (None, 52)                208       \n",
      "_________________________________________________________________\n",
      "dropout_28 (Dropout)         (None, 52)                0         \n",
      "_________________________________________________________________\n",
      "dense_37 (Dense)             (None, 10)                530       \n",
      "=================================================================\n",
      "Total params: 306,914\n",
      "Trainable params: 306,082\n",
      "Non-trainable params: 832\n",
      "_________________________________________________________________\n"
     ]
    }
   ],
   "source": [
    "model = Sequential()\n",
    "\n",
    "model.add(Dense(364, activation='relu', input_shape=(input_dim,), kernel_initializer=RandomNormal()))\n",
    "model.add(BatchNormalization())\n",
    "model.add(Dropout(0.6))\n",
    "\n",
    "model.add(Dense(52, activation='relu', kernel_initializer=RandomNormal()) )\n",
    "model.add(BatchNormalization())\n",
    "model.add(Dropout(0.2))\n",
    "\n",
    "model.add(Dense(output_dim, activation='softmax'))\n",
    "\n",
    "\n",
    "model.summary()"
   ]
  },
  {
   "cell_type": "code",
   "execution_count": 41,
   "metadata": {},
   "outputs": [
    {
     "name": "stdout",
     "output_type": "stream",
     "text": [
      "Train on 60000 samples, validate on 10000 samples\n",
      "Epoch 1/20\n",
      "60000/60000 [==============================] - 13s 219us/step - loss: 0.4251 - acc: 0.8738 - val_loss: 0.1555 - val_acc: 0.9524\n",
      "Epoch 2/20\n",
      "60000/60000 [==============================] - 10s 171us/step - loss: 0.2173 - acc: 0.9353 - val_loss: 0.1147 - val_acc: 0.9626\n",
      "Epoch 3/20\n",
      "60000/60000 [==============================] - 10s 171us/step - loss: 0.1744 - acc: 0.9484 - val_loss: 0.1007 - val_acc: 0.9693\n",
      "Epoch 4/20\n",
      "60000/60000 [==============================] - 10s 171us/step - loss: 0.1552 - acc: 0.9526 - val_loss: 0.0900 - val_acc: 0.9717\n",
      "Epoch 5/20\n",
      "60000/60000 [==============================] - 10s 172us/step - loss: 0.1390 - acc: 0.9593 - val_loss: 0.0832 - val_acc: 0.9737ss: 0.13 - ETA: 1s - loss: 0.1377 - acc:  - ETA: 1s - loss: 0 - ETA: 0s - loss: 0.1391 - acc: \n",
      "Epoch 6/20\n",
      "60000/60000 [==============================] - 10s 173us/step - loss: 0.1265 - acc: 0.9616 - val_loss: 0.0796 - val_acc: 0.9747\n",
      "Epoch 7/20\n",
      "60000/60000 [==============================] - 11s 176us/step - loss: 0.1224 - acc: 0.9633 - val_loss: 0.0752 - val_acc: 0.9774\n",
      "Epoch 8/20\n",
      "60000/60000 [==============================] - 10s 168us/step - loss: 0.1109 - acc: 0.9654 - val_loss: 0.0663 - val_acc: 0.9787\n",
      "Epoch 9/20\n",
      "60000/60000 [==============================] - 10s 170us/step - loss: 0.1054 - acc: 0.9672 - val_loss: 0.0676 - val_acc: 0.9785\n",
      "Epoch 10/20\n",
      "60000/60000 [==============================] - 10s 167us/step - loss: 0.1011 - acc: 0.9681 - val_loss: 0.0658 - val_acc: 0.9802\n",
      "Epoch 11/20\n",
      "60000/60000 [==============================] - 10s 168us/step - loss: 0.0967 - acc: 0.9700 - val_loss: 0.0634 - val_acc: 0.9807\n",
      "Epoch 12/20\n",
      "60000/60000 [==============================] - 10s 170us/step - loss: 0.0961 - acc: 0.9697 - val_loss: 0.0647 - val_acc: 0.9791\n",
      "Epoch 13/20\n",
      "60000/60000 [==============================] - 10s 167us/step - loss: 0.0921 - acc: 0.9712 - val_loss: 0.0624 - val_acc: 0.9810\n",
      "Epoch 14/20\n",
      "60000/60000 [==============================] - 10s 173us/step - loss: 0.0865 - acc: 0.9732 - val_loss: 0.0576 - val_acc: 0.9821\n",
      "Epoch 15/20\n",
      "60000/60000 [==============================] - 10s 169us/step - loss: 0.0833 - acc: 0.9735 - val_loss: 0.0585 - val_acc: 0.9822\n",
      "Epoch 16/20\n",
      "60000/60000 [==============================] - 11s 183us/step - loss: 0.0807 - acc: 0.9747 - val_loss: 0.0568 - val_acc: 0.9831\n",
      "Epoch 17/20\n",
      "60000/60000 [==============================] - 10s 174us/step - loss: 0.0800 - acc: 0.9748 - val_loss: 0.0589 - val_acc: 0.9825\n",
      "Epoch 18/20\n",
      "60000/60000 [==============================] - 10s 169us/step - loss: 0.0752 - acc: 0.9765 - val_loss: 0.0559 - val_acc: 0.9818\n",
      "Epoch 19/20\n",
      "60000/60000 [==============================] - 10s 167us/step - loss: 0.0748 - acc: 0.9767 - val_loss: 0.0590 - val_acc: 0.9819\n",
      "Epoch 20/20\n",
      "60000/60000 [==============================] - 10s 169us/step - loss: 0.0741 - acc: 0.9770 - val_loss: 0.0552 - val_acc: 0.9842\n"
     ]
    }
   ],
   "source": [
    "model.compile(optimizer='adam', loss='categorical_crossentropy', metrics=['accuracy'])\n",
    "\n",
    "history = model.fit(X_train, Y_train, batch_size=batch_size, epochs=nb_epoch, verbose=1, validation_data=(X_test, Y_test))"
   ]
  },
  {
   "cell_type": "code",
   "execution_count": 23,
   "metadata": {},
   "outputs": [
    {
     "name": "stdout",
     "output_type": "stream",
     "text": [
      "Test score: 0.058236283173075935\n",
      "Test accuracy: 0.9832\n"
     ]
    },
    {
     "data": {
      "image/png": "[encoded data removed]",
      "text/plain": [
       "<Figure size 432x288 with 1 Axes>"
      ]
     },
     "metadata": {},
     "output_type": "display_data"
    }
   ],
   "source": [
    "score = model.evaluate(X_test, Y_test, verbose=0) \n",
    "print('Test score:', score[0]) \n",
    "print('Test accuracy:', score[1])\n",
    "\n",
    "fig,ax = plt.subplots(1,1)\n",
    "ax.set_xlabel('epoch') ; ax.set_ylabel('Categorical Crossentropy Loss')\n",
    "\n",
    "# list of epoch numbers\n",
    "x = list(range(1,nb_epoch+1))\n",
    "vy = history.history['val_loss']\n",
    "ty = history.history['loss']\n",
    "plt_dynamic(x, vy, ty, ax)"
   ]
  },
  {
   "cell_type": "markdown",
   "metadata": {},
   "source": [
    "Here we took 2 hidden layers the best epoch is 6 after that the system is overfitting"
   ]
  },
  {
   "cell_type": "markdown",
   "metadata": {},
   "source": [
    "# 3 Hidden Layers 467-311-207"
   ]
  },
  {
   "cell_type": "code",
   "execution_count": 34,
   "metadata": {},
   "outputs": [
    {
     "name": "stdout",
     "output_type": "stream",
     "text": [
      "_________________________________________________________________\n",
      "Layer (type)                 Output Shape              Param #   \n",
      "=================================================================\n",
      "dense_25 (Dense)             (None, 467)               366595    \n",
      "_________________________________________________________________\n",
      "batch_normalization_19 (Batc (None, 467)               1868      \n",
      "_________________________________________________________________\n",
      "dropout_19 (Dropout)         (None, 467)               0         \n",
      "_________________________________________________________________\n",
      "dense_26 (Dense)             (None, 311)               145548    \n",
      "_________________________________________________________________\n",
      "batch_normalization_20 (Batc (None, 311)               1244      \n",
      "_________________________________________________________________\n",
      "dropout_20 (Dropout)         (None, 311)               0         \n",
      "_________________________________________________________________\n",
      "dense_27 (Dense)             (None, 207)               64584     \n",
      "_________________________________________________________________\n",
      "batch_normalization_21 (Batc (None, 207)               828       \n",
      "_________________________________________________________________\n",
      "dropout_21 (Dropout)         (None, 207)               0         \n",
      "_________________________________________________________________\n",
      "dense_28 (Dense)             (None, 10)                2080      \n",
      "=================================================================\n",
      "Total params: 582,747\n",
      "Trainable params: 580,777\n",
      "Non-trainable params: 1,970\n",
      "_________________________________________________________________\n"
     ]
    }
   ],
   "source": [
    "model = Sequential()\n",
    "\n",
    "model.add(Dense(467, activation='relu', input_shape=(input_dim,), kernel_initializer=RandomNormal()))\n",
    "model.add(BatchNormalization())\n",
    "model.add(Dropout(0.4))\n",
    "\n",
    "model.add(Dense(311, activation='relu', input_shape=(input_dim,), kernel_initializer=RandomNormal()))\n",
    "model.add(BatchNormalization())\n",
    "model.add(Dropout(0.4))\n",
    "\n",
    "model.add(Dense(207, activation='relu', input_shape=(input_dim,), kernel_initializer=RandomNormal()))\n",
    "model.add(BatchNormalization())\n",
    "model.add(Dropout(0.4))\n",
    "\n",
    "model.add(Dense(output_dim, activation='softmax'))\n",
    "\n",
    "\n",
    "model.summary()"
   ]
  },
  {
   "cell_type": "code",
   "execution_count": 35,
   "metadata": {},
   "outputs": [
    {
     "name": "stdout",
     "output_type": "stream",
     "text": [
      "Train on 60000 samples, validate on 10000 samples\n",
      "Epoch 1/20\n",
      "60000/60000 [==============================] - 20s 336us/step - loss: 0.3891 - acc: 0.8796 - val_loss: 0.1444 - val_acc: 0.9551\n",
      "Epoch 2/20\n",
      "60000/60000 [==============================] - 17s 282us/step - loss: 0.1740 - acc: 0.9469 - val_loss: 0.0943 - val_acc: 0.9727\n",
      "Epoch 3/20\n",
      "60000/60000 [==============================] - 17s 277us/step - loss: 0.1356 - acc: 0.9585 - val_loss: 0.0850 - val_acc: 0.9732\n",
      "Epoch 4/20\n",
      "60000/60000 [==============================] - 17s 275us/step - loss: 0.1188 - acc: 0.9634 - val_loss: 0.0832 - val_acc: 0.9741\n",
      "Epoch 5/20\n",
      "60000/60000 [==============================] - 17s 275us/step - loss: 0.1033 - acc: 0.9677 - val_loss: 0.0779 - val_acc: 0.9774\n",
      "Epoch 6/20\n",
      "60000/60000 [==============================] - 17s 282us/step - loss: 0.0923 - acc: 0.9709 - val_loss: 0.0838 - val_acc: 0.9731\n",
      "Epoch 7/20\n",
      "60000/60000 [==============================] - 17s 286us/step - loss: 0.0870 - acc: 0.9727 - val_loss: 0.0629 - val_acc: 0.9804\n",
      "Epoch 8/20\n",
      "60000/60000 [==============================] - 17s 282us/step - loss: 0.0819 - acc: 0.9741 - val_loss: 0.0641 - val_acc: 0.9797\n",
      "Epoch 9/20\n",
      "60000/60000 [==============================] - 17s 278us/step - loss: 0.0737 - acc: 0.9767 - val_loss: 0.0669 - val_acc: 0.9802\n",
      "Epoch 10/20\n",
      "60000/60000 [==============================] - 17s 282us/step - loss: 0.0684 - acc: 0.9787 - val_loss: 0.0636 - val_acc: 0.9803\n",
      "Epoch 11/20\n",
      "60000/60000 [==============================] - 17s 278us/step - loss: 0.0664 - acc: 0.9798 - val_loss: 0.0610 - val_acc: 0.9819\n",
      "Epoch 12/20\n",
      "60000/60000 [==============================] - 17s 276us/step - loss: 0.0626 - acc: 0.9800 - val_loss: 0.0596 - val_acc: 0.9839\n",
      "Epoch 13/20\n",
      "60000/60000 [==============================] - 17s 284us/step - loss: 0.0582 - acc: 0.9809 - val_loss: 0.0644 - val_acc: 0.9812\n",
      "Epoch 14/20\n",
      "60000/60000 [==============================] - 17s 280us/step - loss: 0.0565 - acc: 0.9821 - val_loss: 0.0584 - val_acc: 0.9819\n",
      "Epoch 15/20\n",
      "60000/60000 [==============================] - 17s 280us/step - loss: 0.0516 - acc: 0.9834 - val_loss: 0.0559 - val_acc: 0.9825\n",
      "Epoch 16/20\n",
      "60000/60000 [==============================] - 17s 280us/step - loss: 0.0496 - acc: 0.9835 - val_loss: 0.0634 - val_acc: 0.9814\n",
      "Epoch 17/20\n",
      "60000/60000 [==============================] - 17s 278us/step - loss: 0.0494 - acc: 0.9837 - val_loss: 0.0551 - val_acc: 0.9833\n",
      "Epoch 18/20\n",
      "60000/60000 [==============================] - 16s 261us/step - loss: 0.0452 - acc: 0.9856 - val_loss: 0.0602 - val_acc: 0.9825\n",
      "Epoch 19/20\n",
      "60000/60000 [==============================] - 15s 249us/step - loss: 0.0454 - acc: 0.9857 - val_loss: 0.0494 - val_acc: 0.9861\n",
      "Epoch 20/20\n",
      "60000/60000 [==============================] - 15s 251us/step - loss: 0.0415 - acc: 0.9863 - val_loss: 0.0561 - val_acc: 0.9838\n"
     ]
    }
   ],
   "source": [
    "model.compile(optimizer='adam', loss='categorical_crossentropy', metrics=['accuracy'])\n",
    "\n",
    "history = model.fit(X_train, Y_train, batch_size=batch_size, epochs=nb_epoch, verbose=1, validation_data=(X_test, Y_test))"
   ]
  },
  {
   "cell_type": "code",
   "execution_count": 36,
   "metadata": {},
   "outputs": [
    {
     "name": "stdout",
     "output_type": "stream",
     "text": [
      "Test score: 0.056106669586646604\n",
      "Test accuracy: 0.9838\n"
     ]
    },
    {
     "data": {
      "image/png": "[encoded data removed]",
      "text/plain": [
       "<Figure size 432x288 with 1 Axes>"
      ]
     },
     "metadata": {},
     "output_type": "display_data"
    }
   ],
   "source": [
    "score = model.evaluate(X_test, Y_test, verbose=0) \n",
    "print('Test score:', score[0]) \n",
    "print('Test accuracy:', score[1])\n",
    "\n",
    "fig,ax = plt.subplots(1,1)\n",
    "ax.set_xlabel('epoch') ; ax.set_ylabel('Categorical Crossentropy Loss')\n",
    "\n",
    "# list of epoch numbers\n",
    "x = list(range(1,nb_epoch+1))\n",
    "vy = history.history['val_loss']\n",
    "ty = history.history['loss']\n",
    "plt_dynamic(x, vy, ty, ax)"
   ]
  },
  {
   "cell_type": "markdown",
   "metadata": {},
   "source": [
    "Here the best epoch rate is 13 after that there is some slight divergence in train and validation"
   ]
  },
  {
   "cell_type": "markdown",
   "metadata": {},
   "source": [
    "# 4 Hidden Layers with 522-348-232-52"
   ]
  },
  {
   "cell_type": "code",
   "execution_count": 24,
   "metadata": {},
   "outputs": [
    {
     "name": "stdout",
     "output_type": "stream",
     "text": [
      "_________________________________________________________________\n",
      "Layer (type)                 Output Shape              Param #   \n",
      "=================================================================\n",
      "dense_10 (Dense)             (None, 522)               409770    \n",
      "_________________________________________________________________\n",
      "batch_normalization_7 (Batch (None, 522)               2088      \n",
      "_________________________________________________________________\n",
      "dropout_7 (Dropout)          (None, 522)               0         \n",
      "_________________________________________________________________\n",
      "dense_11 (Dense)             (None, 348)               182004    \n",
      "_________________________________________________________________\n",
      "batch_normalization_8 (Batch (None, 348)               1392      \n",
      "_________________________________________________________________\n",
      "dropout_8 (Dropout)          (None, 348)               0         \n",
      "_________________________________________________________________\n",
      "dense_12 (Dense)             (None, 232)               80968     \n",
      "_________________________________________________________________\n",
      "batch_normalization_9 (Batch (None, 232)               928       \n",
      "_________________________________________________________________\n",
      "dropout_9 (Dropout)          (None, 232)               0         \n",
      "_________________________________________________________________\n",
      "dense_13 (Dense)             (None, 52)                12116     \n",
      "_________________________________________________________________\n",
      "batch_normalization_10 (Batc (None, 52)                208       \n",
      "_________________________________________________________________\n",
      "dropout_10 (Dropout)         (None, 52)                0         \n",
      "_________________________________________________________________\n",
      "dense_14 (Dense)             (None, 10)                530       \n",
      "=================================================================\n",
      "Total params: 690,004\n",
      "Trainable params: 687,696\n",
      "Non-trainable params: 2,308\n",
      "_________________________________________________________________\n"
     ]
    }
   ],
   "source": [
    "model = Sequential()\n",
    "\n",
    "model.add(Dense(522, activation='relu', input_shape=(input_dim,), kernel_initializer=RandomNormal()))\n",
    "model.add(BatchNormalization())\n",
    "model.add(Dropout(0.2))\n",
    "\n",
    "model.add(Dense(348, activation='relu', input_shape=(input_dim,), kernel_initializer=RandomNormal()))\n",
    "model.add(BatchNormalization())\n",
    "model.add(Dropout(0.2))\n",
    "\n",
    "model.add(Dense(232, activation='relu', input_shape=(input_dim,), kernel_initializer=RandomNormal()))\n",
    "model.add(BatchNormalization())\n",
    "model.add(Dropout(0.2))\n",
    "\n",
    "model.add(Dense(52, activation='relu', kernel_initializer=RandomNormal()) )\n",
    "model.add(BatchNormalization())\n",
    "model.add(Dropout(0.2))\n",
    "\n",
    "model.add(Dense(output_dim, activation='softmax'))\n",
    "\n",
    "\n",
    "model.summary()"
   ]
  },
  {
   "cell_type": "code",
   "execution_count": 25,
   "metadata": {},
   "outputs": [
    {
     "name": "stdout",
     "output_type": "stream",
     "text": [
      "Train on 60000 samples, validate on 10000 samples\n",
      "Epoch 1/20\n",
      "60000/60000 [==============================] - 17s 281us/step - loss: 0.3045 - acc: 0.9091 - val_loss: 0.1070 - val_acc: 0.9671\n",
      "Epoch 2/20\n",
      "60000/60000 [==============================] - 15s 250us/step - loss: 0.1347 - acc: 0.9597 - val_loss: 0.0876 - val_acc: 0.9736\n",
      "Epoch 3/20\n",
      "60000/60000 [==============================] - 15s 246us/step - loss: 0.1050 - acc: 0.9685 - val_loss: 0.0774 - val_acc: 0.9765\n",
      "Epoch 4/20\n",
      "60000/60000 [==============================] - 15s 253us/step - loss: 0.0859 - acc: 0.9737 - val_loss: 0.0761 - val_acc: 0.9779\n",
      "Epoch 5/20\n",
      "60000/60000 [==============================] - 16s 269us/step - loss: 0.0739 - acc: 0.9768 - val_loss: 0.0640 - val_acc: 0.9806\n",
      "Epoch 6/20\n",
      "60000/60000 [==============================] - 16s 267us/step - loss: 0.0664 - acc: 0.9792 - val_loss: 0.0648 - val_acc: 0.9815\n",
      "Epoch 7/20\n",
      "60000/60000 [==============================] - 14s 238us/step - loss: 0.0588 - acc: 0.9814 - val_loss: 0.0730 - val_acc: 0.9784\n",
      "Epoch 8/20\n",
      "60000/60000 [==============================] - 14s 239us/step - loss: 0.0522 - acc: 0.9836 - val_loss: 0.0596 - val_acc: 0.9837\n",
      "Epoch 9/20\n",
      "60000/60000 [==============================] - 14s 230us/step - loss: 0.0474 - acc: 0.9849 - val_loss: 0.0610 - val_acc: 0.9831\n",
      "Epoch 10/20\n",
      "60000/60000 [==============================] - 14s 241us/step - loss: 0.0464 - acc: 0.9854 - val_loss: 0.0620 - val_acc: 0.9813\n",
      "Epoch 11/20\n",
      "60000/60000 [==============================] - 15s 242us/step - loss: 0.0392 - acc: 0.9874 - val_loss: 0.0600 - val_acc: 0.9830\n",
      "Epoch 12/20\n",
      "60000/60000 [==============================] - 14s 235us/step - loss: 0.0385 - acc: 0.9884 - val_loss: 0.0663 - val_acc: 0.9800\n",
      "Epoch 13/20\n",
      "60000/60000 [==============================] - 15s 245us/step - loss: 0.0370 - acc: 0.9882 - val_loss: 0.0560 - val_acc: 0.9839\n",
      "Epoch 14/20\n",
      "60000/60000 [==============================] - 15s 251us/step - loss: 0.0349 - acc: 0.9886 - val_loss: 0.0621 - val_acc: 0.9823\n",
      "Epoch 15/20\n",
      "60000/60000 [==============================] - 15s 252us/step - loss: 0.0332 - acc: 0.9893 - val_loss: 0.0726 - val_acc: 0.9806\n",
      "Epoch 16/20\n",
      "60000/60000 [==============================] - 16s 260us/step - loss: 0.0292 - acc: 0.9907 - val_loss: 0.0767 - val_acc: 0.9806\n",
      "Epoch 17/20\n",
      "60000/60000 [==============================] - 15s 253us/step - loss: 0.0289 - acc: 0.9910 - val_loss: 0.0557 - val_acc: 0.9844\n",
      "Epoch 18/20\n",
      "60000/60000 [==============================] - 16s 272us/step - loss: 0.0294 - acc: 0.9909 - val_loss: 0.0723 - val_acc: 0.9818\n",
      "Epoch 19/20\n",
      "60000/60000 [==============================] - 15s 244us/step - loss: 0.0266 - acc: 0.9916 - val_loss: 0.0590 - val_acc: 0.9845\n",
      "Epoch 20/20\n",
      "60000/60000 [==============================] - 16s 262us/step - loss: 0.0228 - acc: 0.9927 - val_loss: 0.0620 - val_acc: 0.9846\n"
     ]
    }
   ],
   "source": [
    "model.compile(optimizer='adam', loss='categorical_crossentropy', metrics=['accuracy'])\n",
    "\n",
    "history = model.fit(X_train, Y_train, batch_size=batch_size, epochs=nb_epoch, verbose=1, validation_data=(X_test, Y_test))"
   ]
  },
  {
   "cell_type": "code",
   "execution_count": 26,
   "metadata": {},
   "outputs": [
    {
     "name": "stdout",
     "output_type": "stream",
     "text": [
      "Test score: 0.061959343498636736\n",
      "Test accuracy: 0.9846\n"
     ]
    },
    {
     "data": {
      "image/png": "[encoded data removed]",
      "text/plain": [
       "<Figure size 432x288 with 1 Axes>"
      ]
     },
     "metadata": {},
     "output_type": "display_data"
    }
   ],
   "source": [
    "score = model.evaluate(X_test, Y_test, verbose=0) \n",
    "print('Test score:', score[0]) \n",
    "print('Test accuracy:', score[1])\n",
    "\n",
    "fig,ax = plt.subplots(1,1)\n",
    "ax.set_xlabel('epoch') ; ax.set_ylabel('Categorical Crossentropy Loss')\n",
    "\n",
    "# list of epoch numbers\n",
    "x = list(range(1,nb_epoch+1))\n",
    "vy = history.history['val_loss']\n",
    "ty = history.history['loss']\n",
    "plt_dynamic(x, vy, ty, ax)"
   ]
  },
  {
   "cell_type": "markdown",
   "metadata": {},
   "source": [
    "Here the best epoch rate is 8 then we can see that system starts to overfit"
   ]
  },
  {
   "cell_type": "markdown",
   "metadata": {},
   "source": [
    "# 5 Hidden Layers 654-554-454-354-254"
   ]
  },
  {
   "cell_type": "code",
   "execution_count": 37,
   "metadata": {},
   "outputs": [
    {
     "name": "stdout",
     "output_type": "stream",
     "text": [
      "_________________________________________________________________\n",
      "Layer (type)                 Output Shape              Param #   \n",
      "=================================================================\n",
      "dense_29 (Dense)             (None, 654)               513390    \n",
      "_________________________________________________________________\n",
      "batch_normalization_22 (Batc (None, 654)               2616      \n",
      "_________________________________________________________________\n",
      "dropout_22 (Dropout)         (None, 654)               0         \n",
      "_________________________________________________________________\n",
      "dense_30 (Dense)             (None, 554)               362870    \n",
      "_________________________________________________________________\n",
      "batch_normalization_23 (Batc (None, 554)               2216      \n",
      "_________________________________________________________________\n",
      "dropout_23 (Dropout)         (None, 554)               0         \n",
      "_________________________________________________________________\n",
      "dense_31 (Dense)             (None, 454)               251970    \n",
      "_________________________________________________________________\n",
      "batch_normalization_24 (Batc (None, 454)               1816      \n",
      "_________________________________________________________________\n",
      "dropout_24 (Dropout)         (None, 454)               0         \n",
      "_________________________________________________________________\n",
      "dense_32 (Dense)             (None, 354)               161070    \n",
      "_________________________________________________________________\n",
      "batch_normalization_25 (Batc (None, 354)               1416      \n",
      "_________________________________________________________________\n",
      "dropout_25 (Dropout)         (None, 354)               0         \n",
      "_________________________________________________________________\n",
      "dense_33 (Dense)             (None, 254)               90170     \n",
      "_________________________________________________________________\n",
      "batch_normalization_26 (Batc (None, 254)               1016      \n",
      "_________________________________________________________________\n",
      "dropout_26 (Dropout)         (None, 254)               0         \n",
      "_________________________________________________________________\n",
      "dense_34 (Dense)             (None, 10)                2550      \n",
      "=================================================================\n",
      "Total params: 1,391,100\n",
      "Trainable params: 1,386,560\n",
      "Non-trainable params: 4,540\n",
      "_________________________________________________________________\n"
     ]
    }
   ],
   "source": [
    "model = Sequential()\n",
    "\n",
    "model.add(Dense(654, activation='relu', input_shape=(input_dim,), kernel_initializer=RandomNormal()))\n",
    "model.add(BatchNormalization())\n",
    "model.add(Dropout(0.5))\n",
    "\n",
    "model.add(Dense(554, activation='relu', input_shape=(input_dim,), kernel_initializer=RandomNormal()))\n",
    "model.add(BatchNormalization())\n",
    "model.add(Dropout(0.5))\n",
    "\n",
    "model.add(Dense(454, activation='relu', input_shape=(input_dim,), kernel_initializer=RandomNormal()))\n",
    "model.add(BatchNormalization())\n",
    "model.add(Dropout(0.5))\n",
    "\n",
    "model.add(Dense(354, activation='relu', kernel_initializer=RandomNormal()) )\n",
    "model.add(BatchNormalization())\n",
    "model.add(Dropout(0.5))\n",
    "\n",
    "model.add(Dense(254, activation='relu', input_shape=(input_dim,), kernel_initializer=RandomNormal()))\n",
    "model.add(BatchNormalization())\n",
    "model.add(Dropout(0.5))\n",
    "\n",
    "model.add(Dense(output_dim, activation='softmax'))\n",
    "\n",
    "\n",
    "model.summary()"
   ]
  },
  {
   "cell_type": "code",
   "execution_count": 38,
   "metadata": {},
   "outputs": [
    {
     "name": "stdout",
     "output_type": "stream",
     "text": [
      "Train on 60000 samples, validate on 10000 samples\n",
      "Epoch 1/20\n",
      "60000/60000 [==============================] - 42s 694us/step - loss: 0.7280 - acc: 0.7790 - val_loss: 0.1878 - val_acc: 0.9447\n",
      "Epoch 2/20\n",
      "60000/60000 [==============================] - 39s 645us/step - loss: 0.2664 - acc: 0.9216 - val_loss: 0.1284 - val_acc: 0.9625\n",
      "Epoch 3/20\n",
      "60000/60000 [==============================] - 37s 617us/step - loss: 0.2003 - acc: 0.9421 - val_loss: 0.1089 - val_acc: 0.9670\n",
      "Epoch 4/20\n",
      "60000/60000 [==============================] - 37s 616us/step - loss: 0.1735 - acc: 0.9496 - val_loss: 0.0982 - val_acc: 0.9710\n",
      "Epoch 5/20\n",
      "60000/60000 [==============================] - 37s 609us/step - loss: 0.1561 - acc: 0.9542 - val_loss: 0.0933 - val_acc: 0.9733\n",
      "Epoch 6/20\n",
      "60000/60000 [==============================] - 38s 631us/step - loss: 0.1378 - acc: 0.9593 - val_loss: 0.0771 - val_acc: 0.9773\n",
      "Epoch 7/20\n",
      "60000/60000 [==============================] - 39s 642us/step - loss: 0.1298 - acc: 0.9623 - val_loss: 0.0881 - val_acc: 0.9755\n",
      "Epoch 8/20\n",
      "60000/60000 [==============================] - 39s 645us/step - loss: 0.1233 - acc: 0.9646 - val_loss: 0.0826 - val_acc: 0.9752\n",
      "Epoch 9/20\n",
      "60000/60000 [==============================] - 39s 644us/step - loss: 0.1132 - acc: 0.9673 - val_loss: 0.0736 - val_acc: 0.9786\n",
      "Epoch 10/20\n",
      "60000/60000 [==============================] - 38s 640us/step - loss: 0.1061 - acc: 0.9690 - val_loss: 0.0744 - val_acc: 0.9784\n",
      "Epoch 11/20\n",
      "60000/60000 [==============================] - 37s 622us/step - loss: 0.1020 - acc: 0.9698 - val_loss: 0.0724 - val_acc: 0.9788\n",
      "Epoch 12/20\n",
      "60000/60000 [==============================] - 37s 620us/step - loss: 0.0972 - acc: 0.9712 - val_loss: 0.0672 - val_acc: 0.9812\n",
      "Epoch 13/20\n",
      "60000/60000 [==============================] - 37s 613us/step - loss: 0.0950 - acc: 0.9729 - val_loss: 0.0651 - val_acc: 0.9814\n",
      "Epoch 14/20\n",
      "60000/60000 [==============================] - 37s 617us/step - loss: 0.0871 - acc: 0.9752 - val_loss: 0.0625 - val_acc: 0.9819\n",
      "Epoch 15/20\n",
      "60000/60000 [==============================] - 38s 635us/step - loss: 0.0835 - acc: 0.9755 - val_loss: 0.0633 - val_acc: 0.9818\n",
      "Epoch 16/20\n",
      "60000/60000 [==============================] - 37s 621us/step - loss: 0.0815 - acc: 0.9757 - val_loss: 0.0592 - val_acc: 0.9846\n",
      "Epoch 17/20\n",
      "60000/60000 [==============================] - 36s 603us/step - loss: 0.0762 - acc: 0.9776 - val_loss: 0.0618 - val_acc: 0.9821\n",
      "Epoch 18/20\n",
      "60000/60000 [==============================] - 37s 621us/step - loss: 0.0727 - acc: 0.9782 - val_loss: 0.0610 - val_acc: 0.9828\n",
      "Epoch 19/20\n",
      "60000/60000 [==============================] - 37s 620us/step - loss: 0.0737 - acc: 0.9777 - val_loss: 0.0612 - val_acc: 0.9830\n",
      "Epoch 20/20\n",
      "60000/60000 [==============================] - 37s 614us/step - loss: 0.0711 - acc: 0.9791 - val_loss: 0.0576 - val_acc: 0.9835\n"
     ]
    }
   ],
   "source": [
    "model.compile(optimizer='adam', loss='categorical_crossentropy', metrics=['accuracy'])\n",
    "\n",
    "history = model.fit(X_train, Y_train, batch_size=batch_size, epochs=nb_epoch, verbose=1, validation_data=(X_test, Y_test))"
   ]
  },
  {
   "cell_type": "code",
   "execution_count": 39,
   "metadata": {},
   "outputs": [
    {
     "name": "stdout",
     "output_type": "stream",
     "text": [
      "Test score: 0.05762099595500622\n",
      "Test accuracy: 0.9835\n"
     ]
    },
    {
     "data": {
      "image/png": "[encoded data removed]",
      "text/plain": [
       "<Figure size 432x288 with 1 Axes>"
      ]
     },
     "metadata": {},
     "output_type": "display_data"
    }
   ],
   "source": [
    "score = model.evaluate(X_test, Y_test, verbose=0) \n",
    "print('Test score:', score[0]) \n",
    "print('Test accuracy:', score[1])\n",
    "\n",
    "fig,ax = plt.subplots(1,1)\n",
    "ax.set_xlabel('epoch') ; ax.set_ylabel('Categorical Crossentropy Loss')\n",
    "\n",
    "# list of epoch numbers\n",
    "x = list(range(1,nb_epoch+1))\n",
    "vy = history.history['val_loss']\n",
    "ty = history.history['loss']\n",
    "plt_dynamic(x, vy, ty, ax)"
   ]
  },
  {
   "cell_type": "markdown",
   "metadata": {},
   "source": [
    "# Observations"
   ]
  },
  {
   "cell_type": "markdown",
   "metadata": {},
   "source": [
    "<table>\n",
    "    <tr>\n",
    "        <th>no of layers</th>\n",
    "        <th>dropout rate</th>\n",
    "        <th>test accuracy</th>\n",
    "        <th>best epochs</th>\n",
    "    </tr>\n",
    "    <tr>\n",
    "        <td>5</td>\n",
    "        <td>0.5</td>\n",
    "        <td>98.35</td>\n",
    "        <td>19</td>\n",
    "    </tr>\n",
    "    <tr>\n",
    "        <td>4</td>\n",
    "        <td>0.2</td>\n",
    "        <td>98.46</td>\n",
    "        <td>8</td>\n",
    "    </tr>\n",
    "    <tr>\n",
    "        <td>3</td>\n",
    "        <td>0.4</td>\n",
    "        <td>98.38</td>\n",
    "        <td>13</td>\n",
    "    </tr>\n",
    "    <tr>\n",
    "        <td>2</td>\n",
    "        <td>0.6</td>\n",
    "        <td>98.2</td>\n",
    "        <td>5</td>\n",
    "</table>    "
   ]
  },
  {
   "cell_type": "markdown",
   "metadata": {},
   "source": [
    "# Conclusion\n"
   ]
  },
  {
   "cell_type": "markdown",
   "metadata": {},
   "source": [
    "From the above table we can see almost all the models are performing good and with different droup rates we are getting similar accuracy. But we can see epochs are changes with no of layers."
   ]
  },
  {
   "cell_type": "code",
   "execution_count": null,
   "metadata": {},
   "outputs": [],
   "source": []
  }
 ],
 "metadata": {
  "kernelspec": {
   "display_name": "Python 3",
   "language": "python",
   "name": "python3"
  },
  "language_info": {
   "codemirror_mode": {
    "name": "ipython",
    "version": 3
   },
   "file_extension": ".py",
   "mimetype": "text/x-python",
   "name": "python",
   "nbconvert_exporter": "python",
   "pygments_lexer": "ipython3",
   "version": "3.6.5"
  }
 },
 "nbformat": 4,
 "nbformat_minor": 2
}
